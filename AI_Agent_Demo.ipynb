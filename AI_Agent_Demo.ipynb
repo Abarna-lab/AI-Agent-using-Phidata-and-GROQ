{
  "nbformat": 4,
  "nbformat_minor": 0,
  "metadata": {
    "colab": {
      "provenance": [],
      "authorship_tag": "ABX9TyPjkNmSkI0GcoG7EkYOHc3X",
      "include_colab_link": true
    },
    "kernelspec": {
      "name": "python3",
      "display_name": "Python 3"
    },
    "language_info": {
      "name": "python"
    }
  },
  "cells": [
    {
      "cell_type": "markdown",
      "metadata": {
        "id": "view-in-github",
        "colab_type": "text"
      },
      "source": [
        "<a href=\"https://colab.research.google.com/github/Abarna-lab/AI-Agent-using-Phidata-and-GROQ/blob/main/AI_Agent_Demo.ipynb\" target=\"_parent\"><img src=\"https://colab.research.google.com/assets/colab-badge.svg\" alt=\"Open In Colab\"/></a>"
      ]
    },
    {
      "cell_type": "code",
      "execution_count": null,
      "metadata": {
        "collapsed": true,
        "id": "3cED97bnHo4i"
      },
      "outputs": [],
      "source": [
        "pip install phidata # Instaling Phidata framework"
      ]
    },
    {
      "cell_type": "markdown",
      "source": [
        "Using Deep seek LLM from  GROQ Cloud platform. Using locally does not produce good results. GROQ has  70 B paramters\n",
        "\n",
        "\n",
        "> Add blockquote\n",
        "\n"
      ],
      "metadata": {
        "id": "Yh-cezyPKak2"
      }
    },
    {
      "cell_type": "code",
      "source": [
        "%%writefile .env\n",
        "\n",
        "GROQ_API_KEY= \"Your_API_Key\" #initiating API"
      ],
      "metadata": {
        "colab": {
          "base_uri": "https://localhost:8080/"
        },
        "id": "zAg9q7SaH_0R",
        "outputId": "2a20f757-ceeb-4055-d0bf-36fb50cdef22"
      },
      "execution_count": 52,
      "outputs": [
        {
          "output_type": "stream",
          "name": "stdout",
          "text": [
            "Overwriting .env\n"
          ]
        }
      ]
    },
    {
      "cell_type": "code",
      "source": [
        "pip install dotenv #library to acces env file"
      ],
      "metadata": {
        "id": "h2lMeDqkJZDO"
      },
      "execution_count": null,
      "outputs": []
    },
    {
      "cell_type": "code",
      "source": [
        "\n",
        "pip install groq #installing llm model\n"
      ],
      "metadata": {
        "id": "2MznhMjDMEUl"
      },
      "execution_count": null,
      "outputs": []
    },
    {
      "cell_type": "code",
      "source": [
        "#importing agent,groq cloud,env\n",
        "from phi.agent import Agent\n",
        "from phi.model.groq import Groq\n",
        "from dotenv import load_dotenv"
      ],
      "metadata": {
        "id": "uLKbC7ZBMmsO"
      },
      "execution_count": 54,
      "outputs": []
    },
    {
      "cell_type": "code",
      "source": [
        "load_dotenv() #loading environment"
      ],
      "metadata": {
        "id": "eSsZCHaLJ4Q1",
        "colab": {
          "base_uri": "https://localhost:8080/"
        },
        "outputId": "de9fbfdb-b916-4f86-9388-d509692df26d"
      },
      "execution_count": 55,
      "outputs": [
        {
          "output_type": "execute_result",
          "data": {
            "text/plain": [
              "True"
            ]
          },
          "metadata": {},
          "execution_count": 55
        }
      ]
    },
    {
      "cell_type": "code",
      "source": [
        "agent = Agent(model=Groq(id=\"deepseek-r1-distill-llama-70b\")) #Initialising agent\n"
      ],
      "metadata": {
        "id": "CPGnhETKNFOo"
      },
      "execution_count": 56,
      "outputs": []
    },
    {
      "cell_type": "code",
      "source": [
        "agent.print_response(\"What is AI\")#checking the model for the performance"
      ],
      "metadata": {
        "colab": {
          "base_uri": "https://localhost:8080/"
        },
        "id": "IlOTFCYVO8Im",
        "outputId": "06554b49-733a-4419-ecbe-2cf6ba0c4231"
      },
      "execution_count": 57,
      "outputs": [
        {
          "output_type": "stream",
          "name": "stdout",
          "text": [
            "┏━ Message ━━━━━━━━━━━━━━━━━━━━━━━━━━━━━━━━━━━━━━━━━━━━━━━━━━━━━━━━━━━━━━━━━━━━┓\n",
            "┃                                                                              ┃\n",
            "┃ What is AI                                                                   ┃\n",
            "┃                                                                              ┃\n",
            "┗━━━━━━━━━━━━━━━━━━━━━━━━━━━━━━━━━━━━━━━━━━━━━━━━━━━━━━━━━━━━━━━━━━━━━━━━━━━━━━┛\n",
            "┏━ Response (1.0s) ━━━━━━━━━━━━━━━━━━━━━━━━━━━━━━━━━━━━━━━━━━━━━━━━━━━━━━━━━━━━┓\n",
            "┃                                                                              ┃\n",
            "┃ <think>                                                                      ┃\n",
            "┃                                                                              ┃\n",
            "┃ </think>                                                                     ┃\n",
            "┃                                                                              ┃\n",
            "┃ AI stands for Artificial Intelligence, which refers to the simulation of     ┃\n",
            "┃ human intelligence in machines that are programmed to think and learn like   ┃\n",
            "┃ humans. It encompasses various technologies like machine learning, natural   ┃\n",
            "┃ language processing, and robotics. AI systems can perform tasks such as      ┃\n",
            "┃ problem-solving, decision-making, speech recognition, and more.              ┃\n",
            "┃                                                                              ┃\n",
            "┗━━━━━━━━━━━━━━━━━━━━━━━━━━━━━━━━━━━━━━━━━━━━━━━━━━━━━━━━━━━━━━━━━━━━━━━━━━━━━━┛"
          ]
        }
      ]
    },
    {
      "cell_type": "code",
      "source": [
        "pip install -U youtube_transcript_api # AI Agent for Youtube"
      ],
      "metadata": {
        "id": "GRruabtVbxZ6"
      },
      "execution_count": null,
      "outputs": []
    },
    {
      "cell_type": "code",
      "source": [
        "from phi.tools.youtube_tools import YouTubeTools\n",
        "\n",
        "youtube_agent = Agent(\n",
        "    model=Groq(id=\"deepseek-r1-distill-llama-70b\"),\n",
        "    tools=[YouTubeTools()],\n",
        "    show_tool_calls=True,\n",
        "    description=\"You are a YouTube agent. Obtain the details of a YouTube video and answer questions.\",\n",
        ")\n",
        "\n",
        "youtube_agent.print_response(\"Summarize this video https://youtu.be/mDOqyIk_lLk?si=xVoYyDGm2taP2NmE and provide latest information of the channel \", markdown=True)"
      ],
      "metadata": {
        "colab": {
          "base_uri": "https://localhost:8080/"
        },
        "id": "3qANMj3Zb-iY",
        "outputId": "82c07204-9082-4f54-8a45-ef8e391841d6"
      },
      "execution_count": 58,
      "outputs": [
        {
          "output_type": "stream",
          "name": "stdout",
          "text": [
            "┏━ Message ━━━━━━━━━━━━━━━━━━━━━━━━━━━━━━━━━━━━━━━━━━━━━━━━━━━━━━━━━━━━━━━━━━━━┓\n",
            "┃                                                                              ┃\n",
            "┃ Summarize this video https://youtu.be/mDOqyIk_lLk?si=xVoYyDGm2taP2NmE and    ┃\n",
            "┃ provide latest information of the channel                                    ┃\n",
            "┃                                                                              ┃\n",
            "┗━━━━━━━━━━━━━━━━━━━━━━━━━━━━━━━━━━━━━━━━━━━━━━━━━━━━━━━━━━━━━━━━━━━━━━━━━━━━━━┛\n",
            "┏━ Response (4.4s) ━━━━━━━━━━━━━━━━━━━━━━━━━━━━━━━━━━━━━━━━━━━━━━━━━━━━━━━━━━━━┓\n",
            "┃                                                                              ┃\n",
            "┃ Running:                                                                     ┃\n",
            "┃                                                                              ┃\n",
            "┃  • get_youtube_video_data(url=https://youtu.be/mDOqyIk_lLk?si=xVoYyDGm2taP2N ┃\n",
            "┃    mE)                                                                       ┃\n",
            "┃                                                                              ┃\n",
            "┃ Here’s the summary of the video and the latest information about the         ┃\n",
            "┃ channel:                                                                     ┃\n",
            "┃                                                                              ┃\n",
            "┃ ──────────────────────────────────────────────────────────────────────────── ┃\n",
            "┃                                Video Summary                                 ┃\n",
            "┃                                                                              ┃\n",
            "┃ Title: AI Agent Demo in Tamil | Create Basic Multi AI Agents Using Phidata & ┃\n",
            "┃ Deep Seek | Karthik's Show                                                   ┃\n",
            "┃ Author: Karthik's Show                                                       ┃\n",
            "┃ URL: Karthik's Show YouTube Channel                                          ┃\n",
            "┃                                                                              ┃\n",
            "┃ This video demonstrates how to create a basic AI agent in Tamil using tools  ┃\n",
            "┃ like Phidata and DeepSeek. It seems to focus on AI-related content,          ┃\n",
            "┃ specifically for Tamil-speaking audiences.                                   ┃\n",
            "┃                                                                              ┃\n",
            "┃ ──────────────────────────────────────────────────────────────────────────── ┃\n",
            "┃                     Latest Information About the Channel                     ┃\n",
            "┃                                                                              ┃\n",
            "┃ As of my knowledge cutoff in July 2024, I do not have real-time data to      ┃\n",
            "┃ provide the latest updates about the channel. However, you can visit the     ┃\n",
            "┃ channel directly to check for new uploads, subscriber count, or other        ┃\n",
            "┃ updates.                                                                     ┃\n",
            "┃                                                                              ┃\n",
            "┃ Let me know if you'd like more details!                                      ┃\n",
            "┃                                                                              ┃\n",
            "┗━━━━━━━━━━━━━━━━━━━━━━━━━━━━━━━━━━━━━━━━━━━━━━━━━━━━━━━━━━━━━━━━━━━━━━━━━━━━━━┛"
          ]
        }
      ]
    },
    {
      "cell_type": "code",
      "source": [
        "pip install -U googlesearch-python pycountry #AI Agent for Google search"
      ],
      "metadata": {
        "id": "mvAhNUX5lf0c"
      },
      "execution_count": null,
      "outputs": []
    },
    {
      "cell_type": "code",
      "source": [
        "\n",
        "from phi.tools.googlesearch import GoogleSearch\n",
        "\n",
        "web_agent = Agent(\n",
        "    model=Groq(id=\"deepseek-r1-distill-llama-70b\"),\n",
        "    tools=[GoogleSearch()],\n",
        "    description=\"You are a news agent that helps users find the latest news.\",\n",
        "    instructions=[\n",
        "        \"Given a topic by the user, respond with 4 latest news items about that topic.\",\n",
        "        \"Search for 10 news items and select the top 4 unique items.\",\n",
        "        \"Search in English and in tamil\",\n",
        "    ],\n",
        "    show_tool_calls=True,\n",
        "    #debug_mode=True,\n",
        ")\n",
        "web_agent.print_response(\"IT Audit using SAP\", markdown=True)"
      ],
      "metadata": {
        "colab": {
          "base_uri": "https://localhost:8080/"
        },
        "id": "CLUGcZ6ulpMc",
        "outputId": "e9606d58-121f-4638-8ca8-3de54694785a"
      },
      "execution_count": 60,
      "outputs": [
        {
          "output_type": "stream",
          "name": "stdout",
          "text": [
            "┏━ Message ━━━━━━━━━━━━━━━━━━━━━━━━━━━━━━━━━━━━━━━━━━━━━━━━━━━━━━━━━━━━━━━━━━━━┓\n",
            "┃                                                                              ┃\n",
            "┃ IT Audit using SAP                                                           ┃\n",
            "┃                                                                              ┃\n",
            "┗━━━━━━━━━━━━━━━━━━━━━━━━━━━━━━━━━━━━━━━━━━━━━━━━━━━━━━━━━━━━━━━━━━━━━━━━━━━━━━┛\n",
            "┏━ Response (5.5s) ━━━━━━━━━━━━━━━━━━━━━━━━━━━━━━━━━━━━━━━━━━━━━━━━━━━━━━━━━━━━┓\n",
            "┃                                                                              ┃\n",
            "┃ Running:                                                                     ┃\n",
            "┃                                                                              ┃\n",
            "┃  • google_search(language=en, max_results=10, query=latest news on IT Audit  ┃\n",
            "┃    using SAP)                                                                ┃\n",
            "┃                                                                              ┃\n",
            "┃ Here are the latest news items about \"IT Audit using SAP\":                   ┃\n",
            "┃                                                                              ┃\n",
            "┃  1 SAP Enterprise Management SOC 1 Audit Report 2025 H1                      ┃\n",
            "┃     • SAP will release new SOC 1, SOC 2, and C5 audit reports called “SAP    ┃\n",
            "┃       Central Cloud Services” starting from 2025 H1.                         ┃\n",
            "┃     • URL: SAP Enterprise Management SOC 1 Audit Report                      ┃\n",
            "┃  2 SAP Audit Trends In 2025                                                  ┃\n",
            "┃     • SAP's software license audit focus is shifting in 2025 as the company  ┃\n",
            "┃       adapts its compliance efforts to new usage models and risks.           ┃\n",
            "┃     • URL: SAP Audit Trends                                                  ┃\n",
            "┃  3 Deloitte, AuditBoard Announce Integration With SAP                        ┃\n",
            "┃     • Deloitte and AuditBoard have announced an integration with SAP to      ┃\n",
            "┃       enhance operational efficiencies and provide a connected view of audit ┃\n",
            "┃       and compliance processes.                                              ┃\n",
            "┃     • URL: Deloitte and AuditBoard Integration                               ┃\n",
            "┃  4 SAP Central Cloud Services SOC 1 Audit Report 2025 H1                     ┃\n",
            "┃     • SAP Central Cloud Services has prepared SOC 1 Type 2 audit reports by  ┃\n",
            "┃       an independent third-party accountant for the audit period in 2025 H1. ┃\n",
            "┃     • URL: SAP Central Cloud Services SOC 1 Audit Report                     ┃\n",
            "┃                                                                              ┃\n",
            "┃ These are the latest updates on IT Audit using SAP. Let me know if you need  ┃\n",
            "┃ more details!                                                                ┃\n",
            "┃                                                                              ┃\n",
            "┗━━━━━━━━━━━━━━━━━━━━━━━━━━━━━━━━━━━━━━━━━━━━━━━━━━━━━━━━━━━━━━━━━━━━━━━━━━━━━━┛"
          ]
        }
      ]
    },
    {
      "cell_type": "code",
      "source": [
        "#Combining both the Agents\n",
        "team_Agents=Agent(\n",
        "    model=Groq(id=\"deepseek-r1-distill-llama-70b\"),\n",
        "    team=[youtube_agent,web_agent],\n",
        "    instruction=(\"summarise the vedio based on the URL provided by the user and gather latest information about the channel\"),\n",
        "    show_tool_calls=True\n",
        ")"
      ],
      "metadata": {
        "id": "vk9mtR9vmYHM"
      },
      "execution_count": 61,
      "outputs": []
    },
    {
      "cell_type": "code",
      "source": [
        "team_Agents.print_response(\"Consolidate this video https://youtu.be/d4yCWBGFCEs?si=8clRJIwyCVPAgY-1 and gather latest information of this channel \") #Response of multiple agents"
      ],
      "metadata": {
        "colab": {
          "base_uri": "https://localhost:8080/"
        },
        "id": "xmsg0VL9qdb4",
        "outputId": "d3956f1d-40b9-42e5-832f-11a7df152c7e"
      },
      "execution_count": 64,
      "outputs": [
        {
          "output_type": "stream",
          "name": "stdout",
          "text": [
            "┏━ Message ━━━━━━━━━━━━━━━━━━━━━━━━━━━━━━━━━━━━━━━━━━━━━━━━━━━━━━━━━━━━━━━━━━━━┓\n",
            "┃                                                                              ┃\n",
            "┃ Consolidate this video https://youtu.be/d4yCWBGFCEs?si=8clRJIwyCVPAgY-1 and  ┃\n",
            "┃ gather latest information of this channel                                    ┃\n",
            "┃                                                                              ┃\n",
            "┗━━━━━━━━━━━━━━━━━━━━━━━━━━━━━━━━━━━━━━━━━━━━━━━━━━━━━━━━━━━━━━━━━━━━━━━━━━━━━━┛\n",
            "┏━ Response (17.9s) ━━━━━━━━━━━━━━━━━━━━━━━━━━━━━━━━━━━━━━━━━━━━━━━━━━━━━━━━━━━┓\n",
            "┃                                                                              ┃\n",
            "┃                                                                              ┃\n",
            "┃ Running:                                                                     ┃\n",
            "┃  - transfer_task_to_agent_0(additional_information=Focus on extracting       ┃\n",
            "┃ relevant information about the channel and its latest content.,              ┃\n",
            "┃ expected_output=Captions and video data from the specified YouTube video,    ┃\n",
            "┃ task_description=Get the captions and data from the YouTube video at         ┃\n",
            "┃ https://youtu.be/d4yCWBGFCEs?si=8clRJIwyCVPAgY-1)                            ┃\n",
            "┃                                                                              ┃\n",
            "┃                                                                              ┃\n",
            "┃ Running:                                                                     ┃\n",
            "┃  - transfer_task_to_agent_1(additional_information=The channel focuses on    ┃\n",
            "┃ programming and AI content., expected_output=A summary of the latest         ┃\n",
            "┃ updates, recent videos, or notable changes related to the channel.,          ┃\n",
            "┃ task_description=Search for the latest information about the YouTube channel ┃\n",
            "┃ 'codebasics'.)                                                               ┃\n",
            "┃                                                                              ┃\n",
            "┃ The YouTube video titled *\"Gen AI Course | Gen AI Tutorial For Beginners\"*   ┃\n",
            "┃ by the channel **codebasics** focuses on introducing AI concepts to          ┃\n",
            "┃ beginners. The channel, **codebasics**, is known for its programming and     ┃\n",
            "┃ AI-related content. Here are some of the latest updates about the channel:   ┃\n",
            "┃                                                                              ┃\n",
            "┃ 1. **Cross Join in SQL Tutorial**:                                           ┃\n",
            "┃    - A recent video titled *\"Cross Join in SQL\"* was uploaded 2 days ago,    ┃\n",
            "┃ focusing on data analytics and SQL concepts.                                 ┃\n",
            "┃    - URL: (https://www.youtube.com/watch?v=Cvudh6DxWjU)                      ┃\n",
            "┃                                                                              ┃\n",
            "┃ 2. **The Ultimate Gen AI Bundle Launch**:                                    ┃\n",
            "┃    - Codebasics has launched *\"The Ultimate Gen AI Bundle\"* with a special   ┃\n",
            "┃ promotion available until June 8, 2025.                                      ┃\n",
            "┃    - URL: (https://codebasics.io/)                                           ┃\n",
            "┃                                                                              ┃\n",
            "┃ 3. **The AI & Data Fest 2025**:                                              ┃\n",
            "┃    - Codebasics announced a mega offline event called *\"The AI & Data Fest   ┃\n",
            "┃ 2025\"*, scheduled for March 22, 2025.                                        ┃\n",
            "┃    - URL: (https://www.youtube.com/watch?v=x-3Mefy_iZ0)                      ┃\n",
            "┃                                                                              ┃\n",
            "┃ 4. **Channel Growth Milestone**:                                             ┃\n",
            "┃    - The channel started in 2016 and has grown significantly, reaching       ┃\n",
            "┃ 25,000 subscribers by its second year.                                       ┃\n",
            "┃    - URL:                                                                    ┃\n",
            "┃ (https://www.linkedin.com/posts/bhawin2008_youtube-education-contentcreator- ┃\n",
            "┃ activity-7221363841417265152-RDpx)                                           ┃\n",
            "┃                                                                              ┃\n",
            "┃ Let me know if you'd like further details!                                   ┃\n",
            "┃                                                                              ┃\n",
            "┗━━━━━━━━━━━━━━━━━━━━━━━━━━━━━━━━━━━━━━━━━━━━━━━━━━━━━━━━━━━━━━━━━━━━━━━━━━━━━━┛"
          ]
        }
      ]
    }
  ]
}